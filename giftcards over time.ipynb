{
 "cells": [
  {
   "cell_type": "code",
   "execution_count": 28,
   "metadata": {
    "collapsed": true
   },
   "outputs": [],
   "source": [
    "import pandas as pd"
   ]
  },
  {
   "cell_type": "code",
   "execution_count": 29,
   "metadata": {
    "collapsed": false
   },
   "outputs": [
    {
     "name": "stderr",
     "output_type": "stream",
     "text": [
      "C:\\ProgramData\\Anaconda3\\lib\\site-packages\\IPython\\core\\interactiveshell.py:2728: DtypeWarning: Columns (13,14) have mixed types. Specify dtype option on import or set low_memory=False.\n",
      "  interactivity=interactivity, compiler=compiler, result=result)\n"
     ]
    }
   ],
   "source": [
    "giftcards = pd.read_csv('C://Users/vivek4/Downloads/donorschoose_data/opendata_giftcards000.gz', \n",
    "                        escapechar='\\\\', names=['_giftcardid', 'dollar_tier', '_buyer_acctid', 'buyer_city', \n",
    "                                                'buyer_state', 'buyer_zip', 'date_purchased', '_buyer_cartid', \n",
    "                                                '_recipient_acctid', 'recipient_city', 'recipient_state', \n",
    "                                                'recipient_zip', 'redeemed', 'date_redeemed', '_redeemed_cartid', \n",
    "                                                'payment_method', 'payment_included_acct_credit', \n",
    "                                                'payment_included_campaign_gift_card', \n",
    "                                                'payment_included_web_purchased_gift_card', 'payment_was_promo_matched'])"
   ]
  },
  {
   "cell_type": "code",
   "execution_count": 5,
   "metadata": {
    "collapsed": false
   },
   "outputs": [
    {
     "data": {
      "text/plain": [
       "Index(['_giftcardid', 'dollar_tier', '_buyer_acctid', 'buyer_city',\n",
       "       'buyer_state', 'buyer_zip', 'date_purchased', '_buyer_cartid',\n",
       "       '_recipient_acctid', 'recipient_city', 'recipient_state',\n",
       "       'recipient_zip', 'redeemed', 'date_redeemed', '_redeemed_cartid',\n",
       "       'payment_method', 'payment_included_acct_credit',\n",
       "       'payment_included_campaign_gift_card',\n",
       "       'payment_included_web_purchased_gift_card',\n",
       "       'payment_was_promo_matched'],\n",
       "      dtype='object')"
      ]
     },
     "execution_count": 5,
     "metadata": {},
     "output_type": "execute_result"
    }
   ],
   "source": [
    "giftcards.columns"
   ]
  },
  {
   "cell_type": "code",
   "execution_count": 6,
   "metadata": {
    "collapsed": false
   },
   "outputs": [
    {
     "data": {
      "text/plain": [
       "(0, 20)"
      ]
     },
     "execution_count": 6,
     "metadata": {},
     "output_type": "execute_result"
    }
   ],
   "source": [
    "# Filter the data for respective year from donations data\n",
    "giftcard_2000=giftcards[(giftcards['date_purchased'].apply(lambda x:x[0:4]) == '2000')]\n",
    "giftcard_2000.shape"
   ]
  },
  {
   "cell_type": "code",
   "execution_count": 8,
   "metadata": {
    "collapsed": false
   },
   "outputs": [
    {
     "data": {
      "text/plain": [
       "(0, 20)"
      ]
     },
     "execution_count": 8,
     "metadata": {},
     "output_type": "execute_result"
    }
   ],
   "source": [
    "# Filter the data for respective year from donations data\n",
    "giftcard_2001=giftcards[(giftcards['date_purchased'].apply(lambda x:x[0:4]) == '2001')]\n",
    "giftcard_2001.shape"
   ]
  },
  {
   "cell_type": "code",
   "execution_count": 9,
   "metadata": {
    "collapsed": false
   },
   "outputs": [
    {
     "data": {
      "text/plain": [
       "(0, 20)"
      ]
     },
     "execution_count": 9,
     "metadata": {},
     "output_type": "execute_result"
    }
   ],
   "source": [
    "# Filter the data for respective year from donations data\n",
    "giftcard_2002=giftcards[(giftcards['date_purchased'].apply(lambda x:x[0:4]) == '2002')]\n",
    "giftcard_2002.shape"
   ]
  },
  {
   "cell_type": "code",
   "execution_count": 10,
   "metadata": {
    "collapsed": false
   },
   "outputs": [
    {
     "data": {
      "text/plain": [
       "(107, 20)"
      ]
     },
     "execution_count": 10,
     "metadata": {},
     "output_type": "execute_result"
    }
   ],
   "source": [
    "# Filter the data for respective year from donations data\n",
    "giftcard_2003=giftcards[(giftcards['date_purchased'].apply(lambda x:x[0:4]) == '2003')]\n",
    "giftcard_2003.shape"
   ]
  },
  {
   "cell_type": "code",
   "execution_count": 11,
   "metadata": {
    "collapsed": false
   },
   "outputs": [
    {
     "data": {
      "text/plain": [
       "(305, 20)"
      ]
     },
     "execution_count": 11,
     "metadata": {},
     "output_type": "execute_result"
    }
   ],
   "source": [
    "# Filter the data for respective year from donations data\n",
    "giftcard_2004=giftcards[(giftcards['date_purchased'].apply(lambda x:x[0:4]) == '2004')]\n",
    "giftcard_2004.shape"
   ]
  },
  {
   "cell_type": "code",
   "execution_count": 12,
   "metadata": {
    "collapsed": false
   },
   "outputs": [
    {
     "data": {
      "text/plain": [
       "(652, 20)"
      ]
     },
     "execution_count": 12,
     "metadata": {},
     "output_type": "execute_result"
    }
   ],
   "source": [
    "# Filter the data for respective year from donations data\n",
    "giftcard_2005=giftcards[(giftcards['date_purchased'].apply(lambda x:x[0:4]) == '2005')]\n",
    "giftcard_2005.shape"
   ]
  },
  {
   "cell_type": "code",
   "execution_count": 13,
   "metadata": {
    "collapsed": false
   },
   "outputs": [
    {
     "data": {
      "text/plain": [
       "(1789, 20)"
      ]
     },
     "execution_count": 13,
     "metadata": {},
     "output_type": "execute_result"
    }
   ],
   "source": [
    "# Filter the data for respective year from donations data\n",
    "giftcard_2006=giftcards[(giftcards['date_purchased'].apply(lambda x:x[0:4]) == '2006')]\n",
    "giftcard_2006.shape"
   ]
  },
  {
   "cell_type": "code",
   "execution_count": 14,
   "metadata": {
    "collapsed": false
   },
   "outputs": [
    {
     "data": {
      "text/plain": [
       "(3374, 20)"
      ]
     },
     "execution_count": 14,
     "metadata": {},
     "output_type": "execute_result"
    }
   ],
   "source": [
    "# Filter the data for respective year from donations data\n",
    "giftcard_2007=giftcards[(giftcards['date_purchased'].apply(lambda x:x[0:4]) == '2007')]\n",
    "giftcard_2007.shape"
   ]
  },
  {
   "cell_type": "code",
   "execution_count": 24,
   "metadata": {
    "collapsed": false
   },
   "outputs": [
    {
     "data": {
      "text/plain": [
       "(6785, 20)"
      ]
     },
     "execution_count": 24,
     "metadata": {},
     "output_type": "execute_result"
    }
   ],
   "source": [
    "giftcard_2008=giftcards[(giftcards['date_purchased'].apply(lambda x:x[0:4]) == '2008')]\n",
    "giftcard_2008.shape"
   ]
  },
  {
   "cell_type": "code",
   "execution_count": 15,
   "metadata": {
    "collapsed": false
   },
   "outputs": [
    {
     "data": {
      "text/plain": [
       "(10466, 20)"
      ]
     },
     "execution_count": 15,
     "metadata": {},
     "output_type": "execute_result"
    }
   ],
   "source": [
    "# Filter the data for respective year from donations data\n",
    "giftcard_2009=giftcards[(giftcards['date_purchased'].apply(lambda x:x[0:4]) == '2009')]\n",
    "giftcard_2009.shape"
   ]
  },
  {
   "cell_type": "code",
   "execution_count": 16,
   "metadata": {
    "collapsed": false
   },
   "outputs": [
    {
     "data": {
      "text/plain": [
       "(18907, 20)"
      ]
     },
     "execution_count": 16,
     "metadata": {},
     "output_type": "execute_result"
    }
   ],
   "source": [
    "# Filter the data for respective year from donations data\n",
    "giftcard_2010=giftcards[(giftcards['date_purchased'].apply(lambda x:x[0:4]) == '2010')]\n",
    "giftcard_2010.shape"
   ]
  },
  {
   "cell_type": "code",
   "execution_count": 17,
   "metadata": {
    "collapsed": false
   },
   "outputs": [
    {
     "data": {
      "text/plain": [
       "(27219, 20)"
      ]
     },
     "execution_count": 17,
     "metadata": {},
     "output_type": "execute_result"
    }
   ],
   "source": [
    "\n",
    "giftcard_2011=giftcards[(giftcards['date_purchased'].apply(lambda x:x[0:4]) == '2011')]\n",
    "giftcard_2011.shape"
   ]
  },
  {
   "cell_type": "code",
   "execution_count": 18,
   "metadata": {
    "collapsed": false
   },
   "outputs": [
    {
     "data": {
      "text/plain": [
       "(107817, 20)"
      ]
     },
     "execution_count": 18,
     "metadata": {},
     "output_type": "execute_result"
    }
   ],
   "source": [
    "giftcard_2012=giftcards[(giftcards['date_purchased'].apply(lambda x:x[0:4]) == '2012')]\n",
    "giftcard_2012.shape"
   ]
  },
  {
   "cell_type": "code",
   "execution_count": 19,
   "metadata": {
    "collapsed": false
   },
   "outputs": [
    {
     "data": {
      "text/plain": [
       "(140037, 20)"
      ]
     },
     "execution_count": 19,
     "metadata": {},
     "output_type": "execute_result"
    }
   ],
   "source": [
    "giftcard_2013=giftcards[(giftcards['date_purchased'].apply(lambda x:x[0:4]) == '2013')]\n",
    "giftcard_2013.shape"
   ]
  },
  {
   "cell_type": "code",
   "execution_count": 63,
   "metadata": {
    "collapsed": false
   },
   "outputs": [
    {
     "data": {
      "text/plain": [
       "(274496, 20)"
      ]
     },
     "execution_count": 63,
     "metadata": {},
     "output_type": "execute_result"
    }
   ],
   "source": [
    "giftcard_2014=giftcards[(giftcards['date_purchased'].apply(lambda x:x[0:4]) == '2014')]\n",
    "giftcard_2014.shape"
   ]
  },
  {
   "cell_type": "code",
   "execution_count": 21,
   "metadata": {
    "collapsed": false
   },
   "outputs": [
    {
     "data": {
      "text/plain": [
       "(355862, 20)"
      ]
     },
     "execution_count": 21,
     "metadata": {},
     "output_type": "execute_result"
    }
   ],
   "source": [
    "giftcard_2015=giftcards[(giftcards['date_purchased'].apply(lambda x:x[0:4]) == '2015')]\n",
    "giftcard_2015.shape"
   ]
  },
  {
   "cell_type": "code",
   "execution_count": 30,
   "metadata": {
    "collapsed": false
   },
   "outputs": [
    {
     "data": {
      "text/plain": [
       "(105208, 20)"
      ]
     },
     "execution_count": 30,
     "metadata": {},
     "output_type": "execute_result"
    }
   ],
   "source": [
    "giftcard_2016=giftcards[(giftcards['date_purchased'].apply(lambda x:x[0:4]) == '2016')]\n",
    "giftcard_2016.shape"
   ]
  },
  {
   "cell_type": "code",
   "execution_count": 36,
   "metadata": {
    "collapsed": false
   },
   "outputs": [
    {
     "data": {
      "text/plain": [
       "(17120, 20)"
      ]
     },
     "execution_count": 36,
     "metadata": {},
     "output_type": "execute_result"
    }
   ],
   "source": [
    "giftcard_2016_jan=giftcard_2016[(giftcard_2016['date_purchased'].apply(lambda x:x[5:7]) == '01')]\n",
    "giftcard_2016_jan.shape"
   ]
  },
  {
   "cell_type": "code",
   "execution_count": 38,
   "metadata": {
    "collapsed": false
   },
   "outputs": [
    {
     "data": {
      "text/plain": [
       "(14684, 20)"
      ]
     },
     "execution_count": 38,
     "metadata": {},
     "output_type": "execute_result"
    }
   ],
   "source": [
    "giftcard_2016_feb=giftcard_2016[(giftcard_2016['date_purchased'].apply(lambda x:x[5:7]) == '02')]\n",
    "giftcard_2016_feb.shape"
   ]
  },
  {
   "cell_type": "code",
   "execution_count": 39,
   "metadata": {
    "collapsed": false
   },
   "outputs": [
    {
     "data": {
      "text/plain": [
       "(27066, 20)"
      ]
     },
     "execution_count": 39,
     "metadata": {},
     "output_type": "execute_result"
    }
   ],
   "source": [
    "giftcard_2016_mar=giftcard_2016[(giftcard_2016['date_purchased'].apply(lambda x:x[5:7]) == '03')]\n",
    "giftcard_2016_mar.shape"
   ]
  },
  {
   "cell_type": "code",
   "execution_count": 40,
   "metadata": {
    "collapsed": false
   },
   "outputs": [
    {
     "data": {
      "text/plain": [
       "(10902, 20)"
      ]
     },
     "execution_count": 40,
     "metadata": {},
     "output_type": "execute_result"
    }
   ],
   "source": [
    "giftcard_2016_apr=giftcard_2016[(giftcard_2016['date_purchased'].apply(lambda x:x[5:7]) == '04')]\n",
    "giftcard_2016_apr.shape"
   ]
  },
  {
   "cell_type": "code",
   "execution_count": 41,
   "metadata": {
    "collapsed": false
   },
   "outputs": [
    {
     "data": {
      "text/plain": [
       "(12776, 20)"
      ]
     },
     "execution_count": 41,
     "metadata": {},
     "output_type": "execute_result"
    }
   ],
   "source": [
    "giftcard_2016_may=giftcard_2016[(giftcard_2016['date_purchased'].apply(lambda x:x[5:7]) == '05')]\n",
    "giftcard_2016_may.shape"
   ]
  },
  {
   "cell_type": "code",
   "execution_count": 43,
   "metadata": {
    "collapsed": false
   },
   "outputs": [
    {
     "data": {
      "text/plain": [
       "(9291, 20)"
      ]
     },
     "execution_count": 43,
     "metadata": {},
     "output_type": "execute_result"
    }
   ],
   "source": [
    "giftcard_2016_jun=giftcard_2016[(giftcard_2016['date_purchased'].apply(lambda x:x[5:7]) == '06')]\n",
    "giftcard_2016_jun.shape"
   ]
  },
  {
   "cell_type": "code",
   "execution_count": 44,
   "metadata": {
    "collapsed": false
   },
   "outputs": [
    {
     "data": {
      "text/plain": [
       "(11928, 20)"
      ]
     },
     "execution_count": 44,
     "metadata": {},
     "output_type": "execute_result"
    }
   ],
   "source": [
    "giftcard_2016_jul=giftcard_2016[(giftcard_2016['date_purchased'].apply(lambda x:x[5:7]) == '07')]\n",
    "giftcard_2016_jul.shape"
   ]
  },
  {
   "cell_type": "code",
   "execution_count": 45,
   "metadata": {
    "collapsed": false
   },
   "outputs": [
    {
     "data": {
      "text/plain": [
       "(1441, 20)"
      ]
     },
     "execution_count": 45,
     "metadata": {},
     "output_type": "execute_result"
    }
   ],
   "source": [
    "giftcard_2016_aug=giftcard_2016[(giftcard_2016['date_purchased'].apply(lambda x:x[5:7]) == '08')]\n",
    "giftcard_2016_aug.shape"
   ]
  },
  {
   "cell_type": "code",
   "execution_count": 46,
   "metadata": {
    "collapsed": false
   },
   "outputs": [
    {
     "data": {
      "text/plain": [
       "(0, 20)"
      ]
     },
     "execution_count": 46,
     "metadata": {},
     "output_type": "execute_result"
    }
   ],
   "source": [
    "giftcard_2016_sep=giftcard_2016[(giftcard_2016['date_purchased'].apply(lambda x:x[5:7]) == '09')]\n",
    "giftcard_2016_sep.shape"
   ]
  },
  {
   "cell_type": "code",
   "execution_count": 47,
   "metadata": {
    "collapsed": false
   },
   "outputs": [
    {
     "data": {
      "text/plain": [
       "(0, 20)"
      ]
     },
     "execution_count": 47,
     "metadata": {},
     "output_type": "execute_result"
    }
   ],
   "source": [
    "giftcard_2016_oct=giftcard_2016[(giftcard_2016['date_purchased'].apply(lambda x:x[5:7]) == '10')]\n",
    "giftcard_2016_oct.shape"
   ]
  },
  {
   "cell_type": "code",
   "execution_count": 48,
   "metadata": {
    "collapsed": false
   },
   "outputs": [
    {
     "data": {
      "text/plain": [
       "(0, 20)"
      ]
     },
     "execution_count": 48,
     "metadata": {},
     "output_type": "execute_result"
    }
   ],
   "source": [
    "giftcard_2016_nov=giftcard_2016[(giftcard_2016['date_purchased'].apply(lambda x:x[5:7]) == '11')]\n",
    "giftcard_2016_nov.shape"
   ]
  },
  {
   "cell_type": "code",
   "execution_count": 49,
   "metadata": {
    "collapsed": false
   },
   "outputs": [
    {
     "data": {
      "text/plain": [
       "(0, 20)"
      ]
     },
     "execution_count": 49,
     "metadata": {},
     "output_type": "execute_result"
    }
   ],
   "source": [
    "giftcard_2016_dec=giftcard_2016[(giftcard_2016['date_purchased'].apply(lambda x:x[5:7]) == '12')]\n",
    "giftcard_2016_dec.shape"
   ]
  },
  {
   "cell_type": "code",
   "execution_count": 23,
   "metadata": {
    "collapsed": false
   },
   "outputs": [
    {
     "data": {
      "text/plain": [
       "(0, 20)"
      ]
     },
     "execution_count": 23,
     "metadata": {},
     "output_type": "execute_result"
    }
   ],
   "source": [
    "giftcard_2017=giftcards[(giftcards['date_purchased'].apply(lambda x:x[0:4]) == '2017')]\n",
    "giftcard_2017.shape"
   ]
  },
  {
   "cell_type": "markdown",
   "metadata": {},
   "source": [
    "#giftcards transactions over months"
   ]
  },
  {
   "cell_type": "code",
   "execution_count": 51,
   "metadata": {
    "collapsed": false
   },
   "outputs": [
    {
     "data": {
      "text/plain": [
       "(18852, 20)"
      ]
     },
     "execution_count": 51,
     "metadata": {},
     "output_type": "execute_result"
    }
   ],
   "source": [
    "giftcard_2015_jan=giftcard_2015[(giftcard_2015['date_purchased'].apply(lambda x:x[5:7]) == '01')]\n",
    "giftcard_2015_jan.shape"
   ]
  },
  {
   "cell_type": "code",
   "execution_count": 52,
   "metadata": {
    "collapsed": false
   },
   "outputs": [
    {
     "data": {
      "text/plain": [
       "(132997, 20)"
      ]
     },
     "execution_count": 52,
     "metadata": {},
     "output_type": "execute_result"
    }
   ],
   "source": [
    "giftcard_2015_feb=giftcard_2015[(giftcard_2015['date_purchased'].apply(lambda x:x[5:7]) == '02')]\n",
    "giftcard_2015_feb.shape"
   ]
  },
  {
   "cell_type": "code",
   "execution_count": 53,
   "metadata": {
    "collapsed": false
   },
   "outputs": [
    {
     "data": {
      "text/plain": [
       "(23088, 20)"
      ]
     },
     "execution_count": 53,
     "metadata": {},
     "output_type": "execute_result"
    }
   ],
   "source": [
    "giftcard_2015_mar=giftcard_2015[(giftcard_2015['date_purchased'].apply(lambda x:x[5:7]) == '03')]\n",
    "giftcard_2015_mar.shape"
   ]
  },
  {
   "cell_type": "code",
   "execution_count": 54,
   "metadata": {
    "collapsed": false
   },
   "outputs": [
    {
     "data": {
      "text/plain": [
       "(14902, 20)"
      ]
     },
     "execution_count": 54,
     "metadata": {},
     "output_type": "execute_result"
    }
   ],
   "source": [
    "giftcard_2015_apr=giftcard_2015[(giftcard_2015['date_purchased'].apply(lambda x:x[5:7]) == '04')]\n",
    "giftcard_2015_apr.shape"
   ]
  },
  {
   "cell_type": "code",
   "execution_count": 55,
   "metadata": {
    "collapsed": false
   },
   "outputs": [
    {
     "data": {
      "text/plain": [
       "(12089, 20)"
      ]
     },
     "execution_count": 55,
     "metadata": {},
     "output_type": "execute_result"
    }
   ],
   "source": [
    "giftcard_2015_may=giftcard_2015[(giftcard_2015['date_purchased'].apply(lambda x:x[5:7]) == '05')]\n",
    "giftcard_2015_may.shape"
   ]
  },
  {
   "cell_type": "code",
   "execution_count": 56,
   "metadata": {
    "collapsed": false
   },
   "outputs": [
    {
     "data": {
      "text/plain": [
       "(10700, 20)"
      ]
     },
     "execution_count": 56,
     "metadata": {},
     "output_type": "execute_result"
    }
   ],
   "source": [
    "giftcard_2015_jun=giftcard_2015[(giftcard_2015['date_purchased'].apply(lambda x:x[5:7]) == '06')]\n",
    "giftcard_2015_jun.shape"
   ]
  },
  {
   "cell_type": "code",
   "execution_count": 57,
   "metadata": {
    "collapsed": false
   },
   "outputs": [
    {
     "data": {
      "text/plain": [
       "(11304, 20)"
      ]
     },
     "execution_count": 57,
     "metadata": {},
     "output_type": "execute_result"
    }
   ],
   "source": [
    "giftcard_2015_jul=giftcard_2015[(giftcard_2015['date_purchased'].apply(lambda x:x[5:7]) == '07')]\n",
    "giftcard_2015_jul.shape"
   ]
  },
  {
   "cell_type": "code",
   "execution_count": 58,
   "metadata": {
    "collapsed": false
   },
   "outputs": [
    {
     "data": {
      "text/plain": [
       "(19605, 20)"
      ]
     },
     "execution_count": 58,
     "metadata": {},
     "output_type": "execute_result"
    }
   ],
   "source": [
    "giftcard_2015_aug=giftcard_2015[(giftcard_2015['date_purchased'].apply(lambda x:x[5:7]) == '08')]\n",
    "giftcard_2015_aug.shape"
   ]
  },
  {
   "cell_type": "code",
   "execution_count": 59,
   "metadata": {
    "collapsed": false
   },
   "outputs": [
    {
     "data": {
      "text/plain": [
       "(25685, 20)"
      ]
     },
     "execution_count": 59,
     "metadata": {},
     "output_type": "execute_result"
    }
   ],
   "source": [
    "giftcard_2015_sep=giftcard_2015[(giftcard_2015['date_purchased'].apply(lambda x:x[5:7]) == '09')]\n",
    "giftcard_2015_sep.shape"
   ]
  },
  {
   "cell_type": "code",
   "execution_count": 60,
   "metadata": {
    "collapsed": false
   },
   "outputs": [
    {
     "data": {
      "text/plain": [
       "(27516, 20)"
      ]
     },
     "execution_count": 60,
     "metadata": {},
     "output_type": "execute_result"
    }
   ],
   "source": [
    "giftcard_2015_oct=giftcard_2015[(giftcard_2015['date_purchased'].apply(lambda x:x[5:7]) == '10')]\n",
    "giftcard_2015_oct.shape"
   ]
  },
  {
   "cell_type": "code",
   "execution_count": 61,
   "metadata": {
    "collapsed": false
   },
   "outputs": [
    {
     "data": {
      "text/plain": [
       "(28892, 20)"
      ]
     },
     "execution_count": 61,
     "metadata": {},
     "output_type": "execute_result"
    }
   ],
   "source": [
    "giftcard_2015_nov=giftcard_2015[(giftcard_2015['date_purchased'].apply(lambda x:x[5:7]) == '11')]\n",
    "giftcard_2015_nov.shape"
   ]
  },
  {
   "cell_type": "code",
   "execution_count": 62,
   "metadata": {
    "collapsed": false
   },
   "outputs": [
    {
     "data": {
      "text/plain": [
       "(30232, 20)"
      ]
     },
     "execution_count": 62,
     "metadata": {},
     "output_type": "execute_result"
    }
   ],
   "source": [
    "giftcard_2015_dec=giftcard_2015[(giftcard_2015['date_purchased'].apply(lambda x:x[5:7]) == '12')]\n",
    "giftcard_2015_dec.shape"
   ]
  },
  {
   "cell_type": "code",
   "execution_count": 64,
   "metadata": {
    "collapsed": true
   },
   "outputs": [],
   "source": [
    "# year 2014"
   ]
  },
  {
   "cell_type": "code",
   "execution_count": 66,
   "metadata": {
    "collapsed": false
   },
   "outputs": [
    {
     "data": {
      "text/plain": [
       "(13916, 20)"
      ]
     },
     "execution_count": 66,
     "metadata": {},
     "output_type": "execute_result"
    }
   ],
   "source": [
    "giftcard_2014_jan=giftcard_2014[(giftcard_2014['date_purchased'].apply(lambda x:x[5:7]) == '01')]\n",
    "giftcard_2014_jan.shape"
   ]
  },
  {
   "cell_type": "code",
   "execution_count": 67,
   "metadata": {
    "collapsed": false
   },
   "outputs": [
    {
     "data": {
      "text/plain": [
       "(11539, 20)"
      ]
     },
     "execution_count": 67,
     "metadata": {},
     "output_type": "execute_result"
    }
   ],
   "source": [
    "giftcard_2014_feb=giftcard_2014[(giftcard_2014['date_purchased'].apply(lambda x:x[5:7]) == '02')]\n",
    "giftcard_2014_feb.shape"
   ]
  },
  {
   "cell_type": "code",
   "execution_count": 68,
   "metadata": {
    "collapsed": false
   },
   "outputs": [
    {
     "data": {
      "text/plain": [
       "(19192, 20)"
      ]
     },
     "execution_count": 68,
     "metadata": {},
     "output_type": "execute_result"
    }
   ],
   "source": [
    "giftcard_2014_mar=giftcard_2014[(giftcard_2014['date_purchased'].apply(lambda x:x[5:7]) == '03')]\n",
    "giftcard_2014_mar.shape"
   ]
  },
  {
   "cell_type": "code",
   "execution_count": 69,
   "metadata": {
    "collapsed": false
   },
   "outputs": [
    {
     "data": {
      "text/plain": [
       "(9813, 20)"
      ]
     },
     "execution_count": 69,
     "metadata": {},
     "output_type": "execute_result"
    }
   ],
   "source": [
    "giftcard_2014_apr=giftcard_2014[(giftcard_2014['date_purchased'].apply(lambda x:x[5:7]) == '04')]\n",
    "giftcard_2014_apr.shape"
   ]
  },
  {
   "cell_type": "code",
   "execution_count": 70,
   "metadata": {
    "collapsed": false
   },
   "outputs": [
    {
     "data": {
      "text/plain": [
       "(27983, 20)"
      ]
     },
     "execution_count": 70,
     "metadata": {},
     "output_type": "execute_result"
    }
   ],
   "source": [
    "giftcard_2014_may=giftcard_2014[(giftcard_2014['date_purchased'].apply(lambda x:x[5:7]) == '05')]\n",
    "giftcard_2014_may.shape"
   ]
  },
  {
   "cell_type": "code",
   "execution_count": 71,
   "metadata": {
    "collapsed": false
   },
   "outputs": [
    {
     "data": {
      "text/plain": [
       "(13393, 20)"
      ]
     },
     "execution_count": 71,
     "metadata": {},
     "output_type": "execute_result"
    }
   ],
   "source": [
    "giftcard_2014_jun=giftcard_2014[(giftcard_2014['date_purchased'].apply(lambda x:x[5:7]) == '06')]\n",
    "giftcard_2014_jun.shape"
   ]
  },
  {
   "cell_type": "code",
   "execution_count": 72,
   "metadata": {
    "collapsed": false
   },
   "outputs": [
    {
     "data": {
      "text/plain": [
       "(11386, 20)"
      ]
     },
     "execution_count": 72,
     "metadata": {},
     "output_type": "execute_result"
    }
   ],
   "source": [
    "giftcard_2014_jul=giftcard_2014[(giftcard_2014['date_purchased'].apply(lambda x:x[5:7]) == '07')]\n",
    "giftcard_2014_jul.shape"
   ]
  },
  {
   "cell_type": "code",
   "execution_count": 73,
   "metadata": {
    "collapsed": false
   },
   "outputs": [
    {
     "data": {
      "text/plain": [
       "(35279, 20)"
      ]
     },
     "execution_count": 73,
     "metadata": {},
     "output_type": "execute_result"
    }
   ],
   "source": [
    "giftcard_2014_aug=giftcard_2014[(giftcard_2014['date_purchased'].apply(lambda x:x[5:7]) == '08')]\n",
    "giftcard_2014_aug.shape"
   ]
  },
  {
   "cell_type": "code",
   "execution_count": 74,
   "metadata": {
    "collapsed": false
   },
   "outputs": [
    {
     "data": {
      "text/plain": [
       "(21163, 20)"
      ]
     },
     "execution_count": 74,
     "metadata": {},
     "output_type": "execute_result"
    }
   ],
   "source": [
    "giftcard_2014_sep=giftcard_2014[(giftcard_2014['date_purchased'].apply(lambda x:x[5:7]) == '09')]\n",
    "giftcard_2014_sep.shape"
   ]
  },
  {
   "cell_type": "code",
   "execution_count": 75,
   "metadata": {
    "collapsed": false
   },
   "outputs": [
    {
     "data": {
      "text/plain": [
       "(30889, 20)"
      ]
     },
     "execution_count": 75,
     "metadata": {},
     "output_type": "execute_result"
    }
   ],
   "source": [
    "giftcard_2014_oct=giftcard_2014[(giftcard_2014['date_purchased'].apply(lambda x:x[5:7]) == '10')]\n",
    "giftcard_2014_oct.shape"
   ]
  },
  {
   "cell_type": "code",
   "execution_count": 76,
   "metadata": {
    "collapsed": false
   },
   "outputs": [
    {
     "data": {
      "text/plain": [
       "(39936, 20)"
      ]
     },
     "execution_count": 76,
     "metadata": {},
     "output_type": "execute_result"
    }
   ],
   "source": [
    "giftcard_2014_nov=giftcard_2014[(giftcard_2014['date_purchased'].apply(lambda x:x[5:7]) == '11')]\n",
    "giftcard_2014_nov.shape"
   ]
  },
  {
   "cell_type": "code",
   "execution_count": 77,
   "metadata": {
    "collapsed": false
   },
   "outputs": [
    {
     "data": {
      "text/plain": [
       "(40007, 20)"
      ]
     },
     "execution_count": 77,
     "metadata": {},
     "output_type": "execute_result"
    }
   ],
   "source": [
    "giftcard_2014_dec=giftcard_2014[(giftcard_2014['date_purchased'].apply(lambda x:x[5:7]) == '12')]\n",
    "giftcard_2014_dec.shape"
   ]
  },
  {
   "cell_type": "code",
   "execution_count": 78,
   "metadata": {
    "collapsed": true
   },
   "outputs": [],
   "source": [
    "#year 2013"
   ]
  },
  {
   "cell_type": "code",
   "execution_count": 79,
   "metadata": {
    "collapsed": false
   },
   "outputs": [
    {
     "data": {
      "text/plain": [
       "(140037, 20)"
      ]
     },
     "execution_count": 79,
     "metadata": {},
     "output_type": "execute_result"
    }
   ],
   "source": [
    "giftcard_2013=giftcards[(giftcards['date_purchased'].apply(lambda x:x[0:4]) == '2013')]\n",
    "giftcard_2013.shape"
   ]
  },
  {
   "cell_type": "code",
   "execution_count": 81,
   "metadata": {
    "collapsed": false
   },
   "outputs": [
    {
     "data": {
      "text/plain": [
       "(13719, 20)"
      ]
     },
     "execution_count": 81,
     "metadata": {},
     "output_type": "execute_result"
    }
   ],
   "source": [
    "giftcard_2013_jan=giftcard_2013[(giftcard_2013['date_purchased'].apply(lambda x:x[5:7]) == '01')]\n",
    "giftcard_2013_jan.shape"
   ]
  },
  {
   "cell_type": "code",
   "execution_count": 82,
   "metadata": {
    "collapsed": false
   },
   "outputs": [
    {
     "data": {
      "text/plain": [
       "(8748, 20)"
      ]
     },
     "execution_count": 82,
     "metadata": {},
     "output_type": "execute_result"
    }
   ],
   "source": [
    "giftcard_2013_feb=giftcard_2013[(giftcard_2013['date_purchased'].apply(lambda x:x[5:7]) == '02')]\n",
    "giftcard_2013_feb.shape"
   ]
  },
  {
   "cell_type": "code",
   "execution_count": 83,
   "metadata": {
    "collapsed": false
   },
   "outputs": [
    {
     "data": {
      "text/plain": [
       "(8047, 20)"
      ]
     },
     "execution_count": 83,
     "metadata": {},
     "output_type": "execute_result"
    }
   ],
   "source": [
    "giftcard_2013_mar=giftcard_2013[(giftcard_2013['date_purchased'].apply(lambda x:x[5:7]) == '03')]\n",
    "giftcard_2013_mar.shape"
   ]
  },
  {
   "cell_type": "code",
   "execution_count": 84,
   "metadata": {
    "collapsed": false
   },
   "outputs": [
    {
     "data": {
      "text/plain": [
       "(7658, 20)"
      ]
     },
     "execution_count": 84,
     "metadata": {},
     "output_type": "execute_result"
    }
   ],
   "source": [
    "giftcard_2013_apr=giftcard_2013[(giftcard_2013['date_purchased'].apply(lambda x:x[5:7]) == '04')]\n",
    "giftcard_2013_apr.shape"
   ]
  },
  {
   "cell_type": "code",
   "execution_count": 85,
   "metadata": {
    "collapsed": false
   },
   "outputs": [
    {
     "data": {
      "text/plain": [
       "(11246, 20)"
      ]
     },
     "execution_count": 85,
     "metadata": {},
     "output_type": "execute_result"
    }
   ],
   "source": [
    "giftcard_2013_may=giftcard_2013[(giftcard_2013['date_purchased'].apply(lambda x:x[5:7]) == '05')]\n",
    "giftcard_2013_may.shape"
   ]
  },
  {
   "cell_type": "code",
   "execution_count": 86,
   "metadata": {
    "collapsed": false
   },
   "outputs": [
    {
     "data": {
      "text/plain": [
       "(7265, 20)"
      ]
     },
     "execution_count": 86,
     "metadata": {},
     "output_type": "execute_result"
    }
   ],
   "source": [
    "giftcard_2013_jun=giftcard_2013[(giftcard_2013['date_purchased'].apply(lambda x:x[5:7]) == '06')]\n",
    "giftcard_2013_jun.shape"
   ]
  },
  {
   "cell_type": "code",
   "execution_count": 87,
   "metadata": {
    "collapsed": false
   },
   "outputs": [
    {
     "data": {
      "text/plain": [
       "(5383, 20)"
      ]
     },
     "execution_count": 87,
     "metadata": {},
     "output_type": "execute_result"
    }
   ],
   "source": [
    "giftcard_2013_jul=giftcard_2013[(giftcard_2013['date_purchased'].apply(lambda x:x[5:7]) == '07')]\n",
    "giftcard_2013_jul.shape"
   ]
  },
  {
   "cell_type": "code",
   "execution_count": 88,
   "metadata": {
    "collapsed": false
   },
   "outputs": [
    {
     "data": {
      "text/plain": [
       "(14085, 20)"
      ]
     },
     "execution_count": 88,
     "metadata": {},
     "output_type": "execute_result"
    }
   ],
   "source": [
    "giftcard_2013_aug=giftcard_2013[(giftcard_2013['date_purchased'].apply(lambda x:x[5:7]) == '08')]\n",
    "giftcard_2013_aug.shape"
   ]
  },
  {
   "cell_type": "code",
   "execution_count": 89,
   "metadata": {
    "collapsed": false
   },
   "outputs": [
    {
     "data": {
      "text/plain": [
       "(11530, 20)"
      ]
     },
     "execution_count": 89,
     "metadata": {},
     "output_type": "execute_result"
    }
   ],
   "source": [
    "giftcard_2013_sep=giftcard_2013[(giftcard_2013['date_purchased'].apply(lambda x:x[5:7]) == '09')]\n",
    "giftcard_2013_sep.shape"
   ]
  },
  {
   "cell_type": "code",
   "execution_count": 90,
   "metadata": {
    "collapsed": false
   },
   "outputs": [
    {
     "data": {
      "text/plain": [
       "(24781, 20)"
      ]
     },
     "execution_count": 90,
     "metadata": {},
     "output_type": "execute_result"
    }
   ],
   "source": [
    "giftcard_2013_oct=giftcard_2013[(giftcard_2013['date_purchased'].apply(lambda x:x[5:7]) == '10')]\n",
    "giftcard_2013_oct.shape"
   ]
  },
  {
   "cell_type": "code",
   "execution_count": 91,
   "metadata": {
    "collapsed": false
   },
   "outputs": [
    {
     "data": {
      "text/plain": [
       "(12887, 20)"
      ]
     },
     "execution_count": 91,
     "metadata": {},
     "output_type": "execute_result"
    }
   ],
   "source": [
    "giftcard_2013_nov=giftcard_2013[(giftcard_2013['date_purchased'].apply(lambda x:x[5:7]) == '11')]\n",
    "giftcard_2013_nov.shape"
   ]
  },
  {
   "cell_type": "code",
   "execution_count": 92,
   "metadata": {
    "collapsed": false
   },
   "outputs": [
    {
     "data": {
      "text/plain": [
       "(14688, 20)"
      ]
     },
     "execution_count": 92,
     "metadata": {},
     "output_type": "execute_result"
    }
   ],
   "source": [
    "giftcard_2013_dec=giftcard_2013[(giftcard_2013['date_purchased'].apply(lambda x:x[5:7]) == '12')]\n",
    "giftcard_2013_dec.shape"
   ]
  },
  {
   "cell_type": "code",
   "execution_count": 93,
   "metadata": {
    "collapsed": true
   },
   "outputs": [],
   "source": [
    "#year 2012"
   ]
  },
  {
   "cell_type": "code",
   "execution_count": 94,
   "metadata": {
    "collapsed": false
   },
   "outputs": [
    {
     "data": {
      "text/plain": [
       "(107817, 20)"
      ]
     },
     "execution_count": 94,
     "metadata": {},
     "output_type": "execute_result"
    }
   ],
   "source": [
    "giftcard_2012=giftcards[(giftcards['date_purchased'].apply(lambda x:x[0:4]) == '2012')]\n",
    "giftcard_2012.shape"
   ]
  },
  {
   "cell_type": "code",
   "execution_count": 95,
   "metadata": {
    "collapsed": false
   },
   "outputs": [
    {
     "data": {
      "text/plain": [
       "(1995, 20)"
      ]
     },
     "execution_count": 95,
     "metadata": {},
     "output_type": "execute_result"
    }
   ],
   "source": [
    "giftcard_2012_jan=giftcard_2012[(giftcard_2012['date_purchased'].apply(lambda x:x[5:7]) == '01')]\n",
    "giftcard_2012_jan.shape"
   ]
  },
  {
   "cell_type": "code",
   "execution_count": 96,
   "metadata": {
    "collapsed": false
   },
   "outputs": [
    {
     "data": {
      "text/plain": [
       "(2736, 20)"
      ]
     },
     "execution_count": 96,
     "metadata": {},
     "output_type": "execute_result"
    }
   ],
   "source": [
    "giftcard_2012_feb=giftcard_2012[(giftcard_2012['date_purchased'].apply(lambda x:x[5:7]) == '02')]\n",
    "giftcard_2012_feb.shape"
   ]
  },
  {
   "cell_type": "code",
   "execution_count": 97,
   "metadata": {
    "collapsed": false
   },
   "outputs": [
    {
     "data": {
      "text/plain": [
       "(6391, 20)"
      ]
     },
     "execution_count": 97,
     "metadata": {},
     "output_type": "execute_result"
    }
   ],
   "source": [
    "giftcard_2012_mar=giftcard_2012[(giftcard_2012['date_purchased'].apply(lambda x:x[5:7]) == '03')]\n",
    "giftcard_2012_mar.shape"
   ]
  },
  {
   "cell_type": "code",
   "execution_count": 98,
   "metadata": {
    "collapsed": false
   },
   "outputs": [
    {
     "data": {
      "text/plain": [
       "(2597, 20)"
      ]
     },
     "execution_count": 98,
     "metadata": {},
     "output_type": "execute_result"
    }
   ],
   "source": [
    "giftcard_2012_apr=giftcard_2012[(giftcard_2012['date_purchased'].apply(lambda x:x[5:7]) == '04')]\n",
    "giftcard_2012_apr.shape"
   ]
  },
  {
   "cell_type": "code",
   "execution_count": 99,
   "metadata": {
    "collapsed": false
   },
   "outputs": [
    {
     "data": {
      "text/plain": [
       "(3220, 20)"
      ]
     },
     "execution_count": 99,
     "metadata": {},
     "output_type": "execute_result"
    }
   ],
   "source": [
    "giftcard_2012_may=giftcard_2012[(giftcard_2012['date_purchased'].apply(lambda x:x[5:7]) == '05')]\n",
    "giftcard_2012_may.shape"
   ]
  },
  {
   "cell_type": "code",
   "execution_count": 100,
   "metadata": {
    "collapsed": false
   },
   "outputs": [
    {
     "data": {
      "text/plain": [
       "(3797, 20)"
      ]
     },
     "execution_count": 100,
     "metadata": {},
     "output_type": "execute_result"
    }
   ],
   "source": [
    "giftcard_2012_jun=giftcard_2012[(giftcard_2012['date_purchased'].apply(lambda x:x[5:7]) == '06')]\n",
    "giftcard_2012_jun.shape"
   ]
  },
  {
   "cell_type": "code",
   "execution_count": 101,
   "metadata": {
    "collapsed": false
   },
   "outputs": [
    {
     "data": {
      "text/plain": [
       "(2402, 20)"
      ]
     },
     "execution_count": 101,
     "metadata": {},
     "output_type": "execute_result"
    }
   ],
   "source": [
    "giftcard_2012_jul=giftcard_2012[(giftcard_2012['date_purchased'].apply(lambda x:x[5:7]) == '07')]\n",
    "giftcard_2012_jul.shape"
   ]
  },
  {
   "cell_type": "code",
   "execution_count": 102,
   "metadata": {
    "collapsed": false
   },
   "outputs": [
    {
     "data": {
      "text/plain": [
       "(2266, 20)"
      ]
     },
     "execution_count": 102,
     "metadata": {},
     "output_type": "execute_result"
    }
   ],
   "source": [
    "giftcard_2012_aug=giftcard_2012[(giftcard_2012['date_purchased'].apply(lambda x:x[5:7]) == '08')]\n",
    "giftcard_2012_aug.shape"
   ]
  },
  {
   "cell_type": "code",
   "execution_count": 103,
   "metadata": {
    "collapsed": false
   },
   "outputs": [
    {
     "data": {
      "text/plain": [
       "(2617, 20)"
      ]
     },
     "execution_count": 103,
     "metadata": {},
     "output_type": "execute_result"
    }
   ],
   "source": [
    "giftcard_2012_sep=giftcard_2012[(giftcard_2012['date_purchased'].apply(lambda x:x[5:7]) == '09')]\n",
    "giftcard_2012_sep.shape"
   ]
  },
  {
   "cell_type": "code",
   "execution_count": 104,
   "metadata": {
    "collapsed": false
   },
   "outputs": [
    {
     "data": {
      "text/plain": [
       "(11717, 20)"
      ]
     },
     "execution_count": 104,
     "metadata": {},
     "output_type": "execute_result"
    }
   ],
   "source": [
    "giftcard_2012_oct=giftcard_2012[(giftcard_2012['date_purchased'].apply(lambda x:x[5:7]) == '10')]\n",
    "giftcard_2012_oct.shape"
   ]
  },
  {
   "cell_type": "code",
   "execution_count": 105,
   "metadata": {
    "collapsed": false
   },
   "outputs": [
    {
     "data": {
      "text/plain": [
       "(54385, 20)"
      ]
     },
     "execution_count": 105,
     "metadata": {},
     "output_type": "execute_result"
    }
   ],
   "source": [
    "giftcard_2012_nov=giftcard_2012[(giftcard_2012['date_purchased'].apply(lambda x:x[5:7]) == '11')]\n",
    "giftcard_2012_nov.shape"
   ]
  },
  {
   "cell_type": "code",
   "execution_count": 106,
   "metadata": {
    "collapsed": false
   },
   "outputs": [
    {
     "data": {
      "text/plain": [
       "(13694, 20)"
      ]
     },
     "execution_count": 106,
     "metadata": {},
     "output_type": "execute_result"
    }
   ],
   "source": [
    "giftcard_2012_dec=giftcard_2012[(giftcard_2012['date_purchased'].apply(lambda x:x[5:7]) == '12')]\n",
    "giftcard_2012_dec.shape"
   ]
  },
  {
   "cell_type": "code",
   "execution_count": 107,
   "metadata": {
    "collapsed": false
   },
   "outputs": [
    {
     "data": {
      "text/plain": [
       "(27219, 20)"
      ]
     },
     "execution_count": 107,
     "metadata": {},
     "output_type": "execute_result"
    }
   ],
   "source": [
    "giftcard_2011=giftcards[(giftcards['date_purchased'].apply(lambda x:x[0:4]) == '2011')]\n",
    "giftcard_2011.shape"
   ]
  },
  {
   "cell_type": "code",
   "execution_count": 108,
   "metadata": {
    "collapsed": false
   },
   "outputs": [
    {
     "data": {
      "text/plain": [
       "(1170, 20)"
      ]
     },
     "execution_count": 108,
     "metadata": {},
     "output_type": "execute_result"
    }
   ],
   "source": [
    "giftcard_2011_jan=giftcard_2011[(giftcard_2011['date_purchased'].apply(lambda x:x[5:7]) == '01')]\n",
    "giftcard_2011_jan.shape"
   ]
  },
  {
   "cell_type": "code",
   "execution_count": 14,
   "metadata": {
    "collapsed": false
   },
   "outputs": [
    {
     "name": "stderr",
     "output_type": "stream",
     "text": [
      "C:\\Users\\DELL\\Anaconda3\\lib\\site-packages\\IPython\\core\\interactiveshell.py:2717: DtypeWarning: Columns (13,14) have mixed types. Specify dtype option on import or set low_memory=False.\n",
      "  interactivity=interactivity, compiler=compiler, result=result)\n"
     ]
    }
   ],
   "source": [
    "import pandas as pd\n",
    "\n",
    "giftcards = pd.read_csv('D:\\\\USF\\Selenium\\opendata_giftcards000.gz', escapechar='\\\\', names=['_giftcardid', 'dollar_tier', '_buyer_acctid', 'buyer_city', 'buyer_state', 'buyer_zip', 'date_purchased', '_buyer_cartid', '_recipient_acctid', 'recipient_city', 'recipient_state', 'recipient_zip', 'redeemed', 'date_redeemed', '_redeemed_cartid', 'payment_method', 'payment_included_acct_credit', 'payment_included_campaign_gift_card', 'payment_included_web_purchased_gift_card', 'payment_was_promo_matched'])\n",
    "giftcards_2004=giftcards[(giftcards['date_purchased'].apply(lambda x:x[0:4]) == '2004')]                #year = 2015\n",
    "#giftcards_2003.to_csv('D:\\\\USF\\Selenium\\giftcards_2002_modified1.csv')"
   ]
  },
  {
   "cell_type": "code",
   "execution_count": 28,
   "metadata": {
    "collapsed": true
   },
   "outputs": [],
   "source": [
    "giftcards_2004=giftcards[(giftcards['date_purchased'].apply(lambda x:x[0:4]) == '2004')] "
   ]
  },
  {
   "cell_type": "code",
   "execution_count": 8,
   "metadata": {
    "collapsed": false
   },
   "outputs": [
    {
     "data": {
      "text/plain": [
       "Index(['_giftcardid', 'dollar_tier', '_buyer_acctid', 'buyer_city',\n",
       "       'buyer_state', 'buyer_zip', 'date_purchased', '_buyer_cartid',\n",
       "       '_recipient_acctid', 'recipient_city', 'recipient_state',\n",
       "       'recipient_zip', 'redeemed', 'date_redeemed', '_redeemed_cartid',\n",
       "       'payment_method', 'payment_included_acct_credit',\n",
       "       'payment_included_campaign_gift_card',\n",
       "       'payment_included_web_purchased_gift_card',\n",
       "       'payment_was_promo_matched'],\n",
       "      dtype='object')"
      ]
     },
     "execution_count": 8,
     "metadata": {},
     "output_type": "execute_result"
    }
   ],
   "source": [
    "giftcards_2002.columns"
   ]
  },
  {
   "cell_type": "code",
   "execution_count": 15,
   "metadata": {
    "collapsed": false
   },
   "outputs": [
    {
     "data": {
      "text/plain": [
       "(107, 20)"
      ]
     },
     "execution_count": 15,
     "metadata": {},
     "output_type": "execute_result"
    }
   ],
   "source": [
    "giftcards_2003.shape"
   ]
  },
  {
   "cell_type": "code",
   "execution_count": 30,
   "metadata": {
    "collapsed": false
   },
   "outputs": [
    {
     "data": {
      "text/plain": [
       "(17, 20)"
      ]
     },
     "execution_count": 30,
     "metadata": {},
     "output_type": "execute_result"
    }
   ],
   "source": [
    "giftcard_2004_jan=giftcards_2004[(giftcards_2004['date_purchased'].apply(lambda x:x[5:7]) == '01')]\n",
    "giftcard_2004_jan.shape"
   ]
  },
  {
   "cell_type": "code",
   "execution_count": null,
   "metadata": {
    "collapsed": true
   },
   "outputs": [],
   "source": []
  }
 ],
 "metadata": {
  "kernelspec": {
   "display_name": "Python 3",
   "language": "python",
   "name": "python3"
  },
  "language_info": {
   "codemirror_mode": {
    "name": "ipython",
    "version": 3
   },
   "file_extension": ".py",
   "mimetype": "text/x-python",
   "name": "python",
   "nbconvert_exporter": "python",
   "pygments_lexer": "ipython3",
   "version": "3.6.0"
  }
 },
 "nbformat": 4,
 "nbformat_minor": 2
}
